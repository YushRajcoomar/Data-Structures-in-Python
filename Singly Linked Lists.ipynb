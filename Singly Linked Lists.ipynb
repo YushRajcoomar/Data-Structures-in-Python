{
 "cells": [
  {
   "cell_type": "markdown",
   "metadata": {},
   "source": [
    "Singly Linked Lists Implementation"
   ]
  },
  {
   "cell_type": "code",
   "execution_count": 571,
   "metadata": {},
   "outputs": [],
   "source": [
    "class Node:\n",
    "    def __init__(self,data):\n",
    "        self.data = data\n",
    "        self.next = None\n",
    "    def print_node(self):\n",
    "        print(self.data)\n",
    "\n",
    "class LinkedList:\n",
    "    def __init__(self):\n",
    "        self.head = None\n",
    "    \n",
    "    def print_list(self):\n",
    "        curr_node = self.head\n",
    "        while curr_node:\n",
    "            print(curr_node.data)\n",
    "            curr_node = curr_node.next\n",
    "    \n",
    "    def append(self,data):\n",
    "        new_node = Node(data)\n",
    "        if self.head == None:\n",
    "            self.head = new_node\n",
    "            return\n",
    "        last_node = self.head\n",
    "        while last_node.next:\n",
    "            last_node = last_node.next\n",
    "        last_node.next = new_node\n",
    "    \n",
    "    def prepend(self,data):\n",
    "        new_node = Node(data)\n",
    "        new_node.next = self.head\n",
    "        self.head = new_node\n",
    "    \n",
    "    def insert_after_node(self,prev_node,data):\n",
    "        if not prev_node:\n",
    "            print(\"Previous node not in list\")\n",
    "            return\n",
    "        new_node = Node(data)\n",
    "        new_node.next = prev_node.next\n",
    "        prev_node.next = new_node\n",
    "    \n",
    "    def bool_node(self,data):\n",
    "        curr_node = self.head\n",
    "        node = Node(data)\n",
    "        while curr_node:\n",
    "            if curr_node.data == node.data:\n",
    "                return True\n",
    "            else:\n",
    "                curr_node = curr_node.next\n",
    "        return False\n",
    "    def delete_node(self,key):\n",
    "        curr_node = self.head\n",
    "        if curr_node and curr_node.data == key:\n",
    "            self.head = curr_node.next\n",
    "            curr_node = None\n",
    "            return\n",
    "        prev_node = None\n",
    "        while curr_node and curr_node.data != key:\n",
    "            prev_node = curr_node\n",
    "            curr_node = curr_node.next\n",
    "        if curr_node is None:\n",
    "            return\n",
    "        \n",
    "        prev_node.next = curr_node.next\n",
    "        curr_node = None\n",
    "    \n",
    "    def delete_node_at_pos(self,pos):\n",
    "        index = 0\n",
    "        curr_node = self.head\n",
    "        if pos == 0:\n",
    "            self.head = curr_node.next\n",
    "            curr_node = None\n",
    "        prev_node = None\n",
    "        while curr_node and pos != index:\n",
    "            prev_node = curr_node\n",
    "            curr_node = curr_node.next\n",
    "            index += 1\n",
    "        if curr_node is None:\n",
    "            return\n",
    "        \n",
    "        prev_node.next = curr_node.next\n",
    "        curr_node = None\n",
    "    \n",
    "    def len_iterative(self):\n",
    "        count = 0\n",
    "        curr_node = self.head\n",
    "        while curr_node:\n",
    "            count += 1\n",
    "            curr_node = curr_node.next\n",
    "        return count\n",
    "    \n",
    "    def len_recursive(self,node):\n",
    "        if node is None:\n",
    "            return 0\n",
    "        return 1 + self.len_recursive(node.next)\n",
    "    \n",
    "    def swap_nodes(self,key_1,key_2):\n",
    "        if key_1 == key_2:\n",
    "            return\n",
    "        curr_node = self.head\n",
    "        while curr_node:\n",
    "            if curr_node.data == key_1:\n",
    "                curr_node.data = key_2\n",
    "                curr_node = curr_node.next\n",
    "            elif curr_node.data == key_2:\n",
    "                curr_node.data = key_1\n",
    "                curr_node = curr_node.next\n",
    "            else:\n",
    "                curr_node = curr_node.next\n",
    "                "
   ]
  },
  {
   "cell_type": "markdown",
   "metadata": {},
   "source": [
    "Swap Nodes in Linked List"
   ]
  },
  {
   "cell_type": "code",
   "execution_count": 572,
   "metadata": {},
   "outputs": [],
   "source": [
    "def swap_nodes(self,key_1,key_2):\n",
    "    if key_1 == key_2:\n",
    "        return\n",
    "    curr_node = self.head\n",
    "    while curr_node:\n",
    "        if curr_node.data == key_1:\n",
    "            curr_node.data = key_2\n",
    "            curr_node = curr_node.next\n",
    "        elif curr_node.data == key_2:\n",
    "            curr_node.data = key_1\n",
    "            curr_node = curr_node.next\n",
    "        else:\n",
    "            curr_node = curr_node.next"
   ]
  },
  {
   "cell_type": "markdown",
   "metadata": {},
   "source": [
    "LeetCode No.206 Reverse Linked List - Iterative"
   ]
  },
  {
   "cell_type": "code",
   "execution_count": 573,
   "metadata": {},
   "outputs": [],
   "source": [
    "def reverseList(llist):\n",
    "    prev = None\n",
    "    cur_node = llist.head\n",
    "    while cur_node:\n",
    "        nexto = cur_node.next\n",
    "        cur_node.next = prev\n",
    "        prev = cur_node\n",
    "        cur_node = nexto\n",
    "    llist.head = prev"
   ]
  },
  {
   "cell_type": "markdown",
   "metadata": {},
   "source": [
    "LeetCode No.206 Reverse Linked List - Recursive"
   ]
  },
  {
   "cell_type": "code",
   "execution_count": 574,
   "metadata": {},
   "outputs": [],
   "source": [
    "def Recursive(cur,prev):\n",
    "    if cur is None:\n",
    "        return \n",
    "    nxt = cur.next\n",
    "    cur.next = prev\n",
    "    return Recursive(nxt,cur)\n",
    "\n",
    "def revlistrec(llist):\n",
    "    return Recursive(llist.head,None)"
   ]
  },
  {
   "cell_type": "markdown",
   "metadata": {},
   "source": [
    "LeetCode No.21 Merge Two Sorted Linked Lists"
   ]
  },
  {
   "cell_type": "code",
   "execution_count": 575,
   "metadata": {},
   "outputs": [],
   "source": [
    "def mergetwolists(cur1,cur2):\n",
    "    head = cur_s = Node(0)\n",
    "    while cur1 and cur2:\n",
    "        if cur1.data <= cur2.data:\n",
    "            cur_s.next = cur1\n",
    "            cur_s = cur1\n",
    "            cur1 = cur1.next\n",
    "        else:\n",
    "            cur_s.next = cur2\n",
    "            cur_s = cur2\n",
    "            cur2 = cur2.next\n",
    "    cur_s.next = cur1 or cur2\n",
    "    return head.next"
   ]
  },
  {
   "cell_type": "markdown",
   "metadata": {},
   "source": [
    "LeetCode No.83 Remove Duplicates from Sorted Linked List"
   ]
  },
  {
   "cell_type": "code",
   "execution_count": 631,
   "metadata": {},
   "outputs": [],
   "source": [
    "def deleteduplicate(head):\n",
    "        if head == None:\n",
    "            return head\n",
    "        \n",
    "        current = head.next\n",
    "        prev = head\n",
    "        \n",
    "        while current != None:\n",
    "            if current.val == prev.val:\n",
    "                prev.next = current.next\n",
    "                current = current.next\n",
    "            else:\n",
    "                current = current.next\n",
    "                prev = prev.next\n",
    "        \n",
    "        return head"
   ]
  }
 ],
 "metadata": {
  "kernelspec": {
   "display_name": "Python 3",
   "language": "python",
   "name": "python3"
  },
  "language_info": {
   "codemirror_mode": {
    "name": "ipython",
    "version": 3
   },
   "file_extension": ".py",
   "mimetype": "text/x-python",
   "name": "python",
   "nbconvert_exporter": "python",
   "pygments_lexer": "ipython3",
   "version": "3.7.6"
  }
 },
 "nbformat": 4,
 "nbformat_minor": 4
}
