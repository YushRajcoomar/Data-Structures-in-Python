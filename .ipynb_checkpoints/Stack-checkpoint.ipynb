{
 "cells": [
  {
   "cell_type": "markdown",
   "metadata": {},
   "source": [
    "Stack Implementation"
   ]
  },
  {
   "cell_type": "code",
   "execution_count": 5,
   "metadata": {},
   "outputs": [],
   "source": [
    "class Stack():\n",
    "    def __init__(self):\n",
    "        self.items = []\n",
    "    \n",
    "    def push(self,item):\n",
    "        self.items.append(item)\n",
    "    \n",
    "    def pop(self):\n",
    "        return self.items.pop()\n",
    "    \n",
    "    def is_empty(self):\n",
    "        return self.items == []\n",
    "    \n",
    "    def peek(self):\n",
    "        if not (self.is_empty()):\n",
    "            return self.items[-1]\n",
    "        else:\n",
    "            print(\"Stack is empty\")\n",
    "    def get_stack(self):\n",
    "        return self.items"
   ]
  },
  {
   "cell_type": "markdown",
   "metadata": {},
   "source": [
    "LeetCode 20. Valid Parentheses"
   ]
  },
  {
   "cell_type": "code",
   "execution_count": 83,
   "metadata": {},
   "outputs": [],
   "source": [
    "def isValid(s):\n",
    "    dictionary = {')':'(','}':'{',']':'['}\n",
    "    stack = []\n",
    "    valid = True\n",
    "    for i in s:\n",
    "        if i in ['(','{','[']:\n",
    "            stack.append(i)\n",
    "        else:\n",
    "            if (dictionary[i] not in stack):\n",
    "                stack.append(i)\n",
    "            if (dictionary[i] == stack[-1]):\n",
    "                stack.pop()\n",
    "    return stack == []"
   ]
  },
  {
   "cell_type": "markdown",
   "metadata": {},
   "source": [
    "Stack Implementation Valid Parentheses"
   ]
  },
  {
   "cell_type": "code",
   "execution_count": 77,
   "metadata": {},
   "outputs": [],
   "source": [
    "def isValid2(s):\n",
    "    dictionary = {')':'(','}':'{',']':'['}\n",
    "    stack = Stack()\n",
    "    for i in s:\n",
    "        if i in ['(','{','[']:\n",
    "            stack.push(i)\n",
    "        else:\n",
    "            if (dictionary[i] not in stack.get_stack()):\n",
    "                stack.push(i)\n",
    "            if (dictionary[i] == stack.peek()):\n",
    "                stack.pop()\n",
    "    return stack.get_stack() == []"
   ]
  },
  {
   "cell_type": "markdown",
   "metadata": {},
   "source": [
    "Convert Integer to Binary"
   ]
  },
  {
   "cell_type": "code",
   "execution_count": 31,
   "metadata": {},
   "outputs": [],
   "source": [
    "def IntToBinary(n):\n",
    "    stack = Stack()\n",
    "    binary = \"\"\n",
    "    while n > 0:\n",
    "        stack.push(n%2)\n",
    "        n = n//2\n",
    "    print(stack.get_stack())\n",
    "    while (not stack.is_empty()):\n",
    "        binary += str(stack.pop())\n",
    "    return int(binary)"
   ]
  }
 ],
 "metadata": {
  "kernelspec": {
   "display_name": "Python 3",
   "language": "python",
   "name": "python3"
  },
  "language_info": {
   "codemirror_mode": {
    "name": "ipython",
    "version": 3
   },
   "file_extension": ".py",
   "mimetype": "text/x-python",
   "name": "python",
   "nbconvert_exporter": "python",
   "pygments_lexer": "ipython3",
   "version": "3.7.6"
  }
 },
 "nbformat": 4,
 "nbformat_minor": 4
}
