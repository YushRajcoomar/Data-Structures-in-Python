{
 "cells": [
  {
   "cell_type": "markdown",
   "metadata": {},
   "source": [
    "Singly Linked Lists Implementation"
   ]
  },
  {
   "cell_type": "code",
   "execution_count": 69,
   "metadata": {},
   "outputs": [],
   "source": [
    "class Node:\n",
    "    def __init__(self,data):\n",
    "        self.data = data\n",
    "        self.next = None\n",
    "\n",
    "class LinkedList:\n",
    "    def __init__(self):\n",
    "        self.head = None\n",
    "    \n",
    "    def print_list(self):\n",
    "        curr_node = self.head\n",
    "        while curr_node:\n",
    "            print(curr_node.data)\n",
    "            curr_node = curr_node.next\n",
    "    \n",
    "    def append(self,data):\n",
    "        new_node = Node(data)\n",
    "        if self.head == None:\n",
    "            self.head = new_node\n",
    "            return\n",
    "        last_node = self.head\n",
    "        while last_node.next:\n",
    "            last_node = last_node.next\n",
    "        last_node.next = new_node\n",
    "    \n",
    "    def prepend(self,data):\n",
    "        new_node = Node(data)\n",
    "        new_node.next = self.head\n",
    "        self.head = new_node\n",
    "    \n",
    "    def insert_after_node(self,prev_node,data):\n",
    "        if not prev_node:\n",
    "            print(\"Previous node not in list\")\n",
    "            return\n",
    "        new_node = Node(data)\n",
    "        new_node.next = prev_node.next\n",
    "        prev_node.next = new_node\n",
    "    \n",
    "    def bool_node(self,data):\n",
    "        curr_node = self.head\n",
    "        node = Node(data)\n",
    "        while curr_node:\n",
    "            if curr_node.data == node.data:\n",
    "                return True\n",
    "            else:\n",
    "                curr_node = curr_node.next\n",
    "        return False"
   ]
  }
 ],
 "metadata": {
  "kernelspec": {
   "display_name": "Python 3",
   "language": "python",
   "name": "python3"
  },
  "language_info": {
   "codemirror_mode": {
    "name": "ipython",
    "version": 3
   },
   "file_extension": ".py",
   "mimetype": "text/x-python",
   "name": "python",
   "nbconvert_exporter": "python",
   "pygments_lexer": "ipython3",
   "version": "3.7.6"
  }
 },
 "nbformat": 4,
 "nbformat_minor": 4
}
